{
 "cells": [
  {
   "cell_type": "code",
   "execution_count": 68,
   "metadata": {},
   "outputs": [],
   "source": [
    "import heapq\n",
    "\n",
    "class Event:\n",
    "    '''\n",
    "    Store the properties of one event in the Schedule class defined below. Each\n",
    "    event has a time at which it needs to run, a function to call when running\n",
    "    the event, along with the arguments and keyword arguments to pass to that\n",
    "    function.\n",
    "    '''\n",
    "    def __init__(self, timestamp, function, *args, **kwargs):\n",
    "        self.timestamp = timestamp\n",
    "        self.function = function\n",
    "        self.args = args\n",
    "        self.kwargs = kwargs\n",
    "\n",
    "    def __lt__(self, other):\n",
    "        '''\n",
    "        This overloads the less-than operator in Python. We need it so the\n",
    "        priority queue knows how to compare two events. We want events with\n",
    "        earlier (smaller) times to go first.\n",
    "        '''\n",
    "        return self.timestamp < other.timestamp\n",
    "\n",
    "    def run(self, schedule):\n",
    "        '''\n",
    "        Run an event by calling the function with its arguments and keyword\n",
    "        arguments. The first argument to any event function is always the\n",
    "        schedule in which events are being tracked. The schedule object can be\n",
    "        used to add new events to the priority queue.\n",
    "        '''\n",
    "        self.function(schedule, *self.args, **self.kwargs)\n",
    "\n",
    "\n",
    "class Schedule:\n",
    "    '''\n",
    "    Implement an event schedule using a priority queue. You can add events and\n",
    "    run the next event.\n",
    "    \n",
    "    The `now` attribute contains the time at which the last event was run.\n",
    "    '''\n",
    "    \n",
    "    def __init__(self):\n",
    "        self.now = 0  # Keep track of the current simulation time\n",
    "        self.priority_queue = []  # The priority queue of events to run\n",
    "    \n",
    "    def add_event_at(self, timestamp, function, *args, **kwargs):\n",
    "        # Add an event to the schedule at a particular point in time.\n",
    "        heapq.heappush(\n",
    "            self.priority_queue,\n",
    "            Event(timestamp, function, *args, **kwargs))\n",
    "    \n",
    "    def add_event_after(self, interval, function, *args, **kwargs):\n",
    "        # Add an event to the schedule after a specified time interval.\n",
    "        self.add_event_at(self.now + interval, function, *args, **kwargs)\n",
    "    \n",
    "    def next_event_time(self):\n",
    "        return self.priority_queue[0].timestamp\n",
    "\n",
    "    def run_next_event(self):\n",
    "        # Get the next event from the priority queue and run it.\n",
    "        event = heapq.heappop(self.priority_queue)\n",
    "        self.now = event.timestamp\n",
    "        event.run(self)\n",
    "        \n",
    "    def __repr__(self):\n",
    "        return (\n",
    "            f'Schedule() at time {self.now} ' +\n",
    "            f'with {len(self.priority_queue)} events in the queue')\n",
    "    \n",
    "    def print_events(self):\n",
    "        print(repr(self))\n",
    "        for event in sorted(self.priority_queue):\n",
    "            print(f'   {event.timestamp}: {event.function.__name__}')\n"
   ]
  },
  {
   "cell_type": "code",
   "execution_count": 69,
   "metadata": {},
   "outputs": [],
   "source": [
    "# M/D/1 queue\n",
    "\n",
    "import scipy.stats as sts\n",
    "\n",
    "\n",
    "class Queue:\n",
    "    def __init__(self, service_rate):\n",
    "        # Store the deterministic service time for an M/D/1 queue\n",
    "        self.service_time = 1 / service_rate\n",
    "        # We start with an empty queue and the server not busy\n",
    "        self.people_in_queue = 0\n",
    "        self.people_being_served = 0\n",
    "\n",
    "    def add_customer(self, schedule):\n",
    "        # Add the customer to the queue\n",
    "        self.people_in_queue += 1\n",
    "        if self.people_being_served < 1:\n",
    "            # This customer can be served immediately\n",
    "            schedule.add_event_after(0, self.start_serving_customer)\n",
    "            \n",
    "    def start_serving_customer(self, schedule):\n",
    "        # Move the customer from the queue to a server\n",
    "        self.people_in_queue -= 1\n",
    "        self.people_being_served += 1\n",
    "        # Schedule when the server will be done with the customer\n",
    "        schedule.add_event_after(\n",
    "            self.service_time,\n",
    "            self.finish_serving_customer)\n",
    "            \n",
    "    def finish_serving_customer(self, schedule):\n",
    "        # Remove the customer from the server\n",
    "        self.people_being_served -= 1\n",
    "        if self.people_in_queue > 0:\n",
    "            # There are more people in the queue so serve the next customer\n",
    "            schedule.add_event_after(0, self.start_serving_customer)\n",
    "\n",
    "\n",
    "class BusSystem:\n",
    "    \n",
    "    def __init__(self, arrival_rate, service_rate):\n",
    "        self.queue = Queue(service_rate)\n",
    "        self.arrival_distribution = sts.expon(scale=1/arrival_rate)\n",
    "\n",
    "    def add_customer(self, schedule):\n",
    "        # Add this customer to the queue\n",
    "        self.queue.add_customer(schedule)\n",
    "        # Schedule when to add another customer\n",
    "        schedule.add_event_after(\n",
    "            self.arrival_distribution.rvs(),\n",
    "            self.add_customer)\n",
    "\n",
    "    def run(self, schedule):\n",
    "        # Schedule when the first customer arrives\n",
    "        schedule.add_event_after(\n",
    "            self.arrival_distribution.rvs(),\n",
    "            self.add_customer)\n",
    "        \n",
    "\n",
    "def run_simulation(arrival_rate, service_rate, run_until):\n",
    "    schedule = Schedule()\n",
    "    bus_system = BusSystem(arrival_rate, service_rate)\n",
    "    bus_system.run(schedule)\n",
    "    while schedule.next_event_time() < run_until:\n",
    "        schedule.run_next_event()\n",
    "    return bus_system"
   ]
  },
  {
   "cell_type": "code",
   "execution_count": 70,
   "metadata": {},
   "outputs": [
    {
     "name": "stdout",
     "output_type": "stream",
     "text": [
      "There are 13 people in the queue\n"
     ]
    }
   ],
   "source": [
    "# Run a short test\n",
    "bus_system = run_simulation(arrival_rate=1.2, service_rate=1, run_until=100)\n",
    "print(f'There are {bus_system.queue.people_in_queue} people in the queue')"
   ]
  },
  {
   "cell_type": "markdown",
   "metadata": {},
   "source": [
    "### First experiment: 100 trials\n",
    "\n",
    "a. To compute empirical estimates in this simulation, you should run the simulation for at least 100 units of time. This is needed to make sure the simulation is in its equilibrium state. “Equilibrium state” essentially means you reach a state where the initial conditions of the simulation don't matter anymore and the same average behavior is observed for the rest of the time.\n",
    "\n",
    "b. After 100 units of time, record the queue length at that point in time.\n",
    "\n",
    "c. Repeat the process above 100 times. This will give you 100 measurements of the queue length in the simulation. These are the results of your experiment.\n",
    "\n",
    "d. Plot a histogram of the results to visualize the distribution over the queue length.\n",
    "\n",
    "e. Compute an empirical estimate of the mean queue length for this M/D/1 queue with arrival rate 0.8 and service rate 1, including a 95% confidence interval of the mean.\n"
   ]
  },
  {
   "cell_type": "code",
   "execution_count": 71,
   "metadata": {},
   "outputs": [],
   "source": [
    "import matplotlib.pyplot as plt \n",
    "import numpy as np \n",
    "\n",
    "#plotting a histogram \n",
    "#calculating the mean of queue length\n",
    "def empirical_analysis(arrival_rate, service_rate, run_until, trials):\n",
    "    lengths = [] # created a list to keep queue lengths after each trial is run\n",
    "\n",
    "    for i in range(trials):\n",
    "        #using the simulation above to obtain queue lengths\n",
    "        bus_system = run_simulation(arrival_rate, service_rate, run_until)\n",
    "        lengths.append(bus_system.queue.people_in_queue)\n",
    "\n",
    "    #plotting the histogram \n",
    "    plt.figure()\n",
    "    plt.title(f'Average queue length -{trials} trials')\n",
    "    plt.xlabel('Observations')\n",
    "    plt.ylabel('Mean queue length')\n",
    "     \n",
    "    #plotting histogram of our lengths\n",
    "    plt.hist(lengths, bins=15)\n",
    "    plt.show()\n",
    "    \n",
    "    #calculating the average of the queue length \n",
    "    mean_queue_length = np.mean(lengths)\n",
    "\n",
    "    # standard error \n",
    "    standard_error = sts.sem(lengths)\n",
    "    # calculating upper limit of 95% confidence interval\n",
    "    upper = mean_queue_length + 1.96*standard_error \n",
    "    # calculating lower limit of 95% confidence interval\n",
    "    lower = mean_queue_length - 1.96*standard_error\n",
    "    \n",
    "    print( mean_queue_length, \" is the average queue length.\")\n",
    "    print(\"95% confidence interval of population mean is (\", round(lower, 4), \",\", round(upper,4) ,\")\",\"with\", round(standard_error,4),\"SE.\")"
   ]
  },
  {
   "cell_type": "code",
   "execution_count": 72,
   "metadata": {},
   "outputs": [
    {
     "data": {
      "image/png": "[encoded data removed]",
      "text/plain": [
       "<Figure size 432x288 with 1 Axes>"
      ]
     },
     "metadata": {
      "needs_background": "light"
     },
     "output_type": "display_data"
    },
    {
     "name": "stdout",
     "output_type": "stream",
     "text": [
      "1.93  is the average queue length.\n",
      "95% confidence interval of population mean is ( 1.4529 , 2.4071 ) with 0.2434 SE.\n"
     ]
    }
   ],
   "source": [
    "#adding the values for the 100 trials experiment\n",
    "arrival_rate = 0.8\n",
    "service_rate = 1\n",
    "run_until = 100\n",
    "\n",
    "trials = 100\n",
    "\n",
    "empirical_analysis(arrival_rate, service_rate, run_until, trials)"
   ]
  },
  {
   "cell_type": "markdown",
   "metadata": {},
   "source": [
    "### Second experiment: 1000 trials\n",
    "    \n",
    "a. Now, repeat the experiment, but with 1000 trials (repetitions of the simulation) rather than 100 trials. Plot a histogram of the results and compute the average queue length and its confidence interval.\n"
   ]
  },
  {
   "cell_type": "code",
   "execution_count": 73,
   "metadata": {},
   "outputs": [
    {
     "data": {
      "image/png": "[encoded data removed]",
      "text/plain": [
       "<Figure size 432x288 with 1 Axes>"
      ]
     },
     "metadata": {
      "needs_background": "light"
     },
     "output_type": "display_data"
    },
    {
     "name": "stdout",
     "output_type": "stream",
     "text": [
      "1.578  is the average queue length.\n",
      "95% confidence interval of population mean is ( 1.4446 , 1.7114 ) with 0.0681 SE.\n"
     ]
    }
   ],
   "source": [
    "#adding values for the 1000 trials experiment\n",
    "\n",
    "arrival_rate = 0.8\n",
    "service_rate = 1\n",
    "run_until = 100\n",
    "\n",
    "trials = 1000\n",
    "\n",
    "empirical_analysis(arrival_rate, service_rate, run_until, trials)"
   ]
  },
  {
   "cell_type": "markdown",
   "metadata": {},
   "source": [
    "Compare the results from the two experiments. Comment on the following. \n",
    "\n",
    "a. Whether and how the distribution (histogram) over queue length changed.\n",
    "\n",
    "b. Whether and how the average queue length estimate changed.\n",
    "    \n",
    "c. Whether and how the confidence interval of the average queue length changed."
   ]
  },
  {
   "cell_type": "markdown",
   "metadata": {},
   "source": [
    "The histogram for both experiments takes a similar form and the mean values are quite similar for both experiments, taking into account the huge difference in sample sizes. Additionally, the standard error in the second experiment is smaller, since we have run the experiment 10 times more than in the first case. "
   ]
  },
  {
   "cell_type": "markdown",
   "metadata": {},
   "source": [
    "Next, repeat the experiment but for different values of the arrival rate. Make an error plot of the average queue length and its 95% confidence interval for different values of the arrival rate and determine when the average queue length exceeds 5 people.\n"
   ]
  },
  {
   "cell_type": "code",
   "execution_count": 82,
   "metadata": {},
   "outputs": [
    {
     "data": {
      "image/png": "[encoded data removed]",
      "text/plain": [
       "<Figure size 432x288 with 1 Axes>"
      ]
     },
     "metadata": {
      "needs_background": "light"
     },
     "output_type": "display_data"
    }
   ],
   "source": [
    "trials = 100\n",
    "\n",
    "#this function is returning the error and mean queue length \n",
    "def empirical_analysis_error(arrival_rate, service_rate, run_until, trials):\n",
    "    lengths = []\n",
    "\n",
    "    for i in range(trials):\n",
    "        bus_system = run_simulation(arrival_rate, service_rate, run_until)\n",
    "        lengths.append(bus_system.queue.people_in_queue)\n",
    "\n",
    "    mean_queue_length = np.mean(lengths)\n",
    "    standard_error = sts.sem(lengths)\n",
    "    error = 1.96*standard_error\n",
    "    \n",
    "    return [mean_queue_length, error]\n",
    "\n",
    "\n",
    "arrival_rates = []\n",
    "mean_queue_length = [] \n",
    "errors = [] \n",
    "\n",
    "for arrival_rate in range(1,15,1): \n",
    "    arrival_rate = arrival_rate/10\n",
    "    trial = empirical_experiment_for_error(arrival_rate, service_rate, run_until, trials)\n",
    "    arrival_rates.append(arrival_rate)\n",
    "    mean_queue_length.append(trial[0])\n",
    "    errors.append(trial[1])\n",
    "\n",
    "#creating the plot with error bars\n",
    "plt.figure()\n",
    "\n",
    "plt.xlabel('Arrival Rate')\n",
    "plt.ylabel('Mean Queue Length')\n",
    "plt.title('Mean Queue Length for different Arrival Rates (95% Confidence Interval error bars)')\n",
    "\n",
    "plt.errorbar(arrival_rates, mean_queue_length, errors, color='red', marker = 'o', capsize=3, linestyle='--', linewidth=2) # Make an error plot\n",
    "plt.show()"
   ]
  },
  {
   "cell_type": "markdown",
   "metadata": {},
   "source": [
    "At around 8.5-9 arrival rate we have an average length of 5. After that towards larger arrival rates our length also increases. So does the confidence interval, which is because we also enlargen the number of trials. "
   ]
  }
 ],
 "metadata": {
  "kernelspec": {
   "display_name": "Python 3 (ipykernel)",
   "language": "python",
   "name": "python3"
  },
  "language_info": {
   "codemirror_mode": {
    "name": "ipython",
    "version": 3
   },
   "file_extension": ".py",
   "mimetype": "text/x-python",
   "name": "python",
   "nbconvert_exporter": "python",
   "pygments_lexer": "ipython3",
   "version": "3.9.7"
  }
 },
 "nbformat": 4,
 "nbformat_minor": 4
}
